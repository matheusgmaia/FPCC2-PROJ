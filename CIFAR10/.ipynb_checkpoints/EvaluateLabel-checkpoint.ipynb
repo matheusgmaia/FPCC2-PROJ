{
 "cells": [
  {
   "cell_type": "code",
   "execution_count": 1,
   "metadata": {},
   "outputs": [],
   "source": [
    "#Importing Necessary Libraries.\n",
    "\n",
    "from PIL import Image\n",
    "import numpy as np\n",
    "import pandas as pd \n",
    "import os\n",
    "import re\n",
    "import cv2\n",
    "from pathlib import Path\n",
    "from scipy.stats import spearmanr\n",
    "\n",
    "import matplotlib.pyplot as P\n",
    "import tensorflow as tf\n",
    "\n",
    "gpus = tf.config.experimental.list_physical_devices('GPU')\n",
    "if gpus:\n",
    "    try:\n",
    "        for gpu in gpus:\n",
    "            tf.config.experimental.set_memory_growth(gpu, True)\n",
    "            tf.config.experimental.set_virtual_device_configuration(gpus[0], [tf.config.experimental.VirtualDeviceConfiguration(memory_limit=4024)])\n",
    "            logical_gpus = tf.config.experimental.list_logical_devices('GPU')\n",
    "            print(len(gpus), \"Physical GPUs,\", len(logical_gpus), \"Logical GPUs\")\n",
    "    except RuntimeError as e:\n",
    "        print(e)"
   ]
  },
  {
   "cell_type": "code",
   "execution_count": 2,
   "metadata": {},
   "outputs": [
    {
     "data": {
      "text/plain": [
       "'2.2.0'"
      ]
     },
     "execution_count": 2,
     "metadata": {},
     "output_type": "execute_result"
    }
   ],
   "source": [
    "from scipy.stats import spearmanr as spr\n",
    "\n",
    "from tensorflow import keras\n",
    "from tensorflow.keras.models import Sequential\n",
    "from tensorflow.keras.layers import *\n",
    "from tensorflow.keras import backend as K\n",
    "from tensorflow.keras.models import Sequential, Model\n",
    "from tensorflow.keras.utils import plot_model, to_categorical\n",
    "from tensorflow.keras.preprocessing.image import ImageDataGenerator, array_to_img, img_to_array, load_img\n",
    "\n",
    "import glob2\n",
    "\n",
    "\n",
    "tf.__version__"
   ]
  },
  {
   "cell_type": "code",
   "execution_count": 3,
   "metadata": {},
   "outputs": [],
   "source": [
    "INPUT_TRUE = \"/home/maia/Documents/Universidade/Universidade/UNIVERSIDADE/MESTRADO/CADEIRAS/FPCC2/CIFAR10/OUT/VGG_res_10e5_75_weight224/*/*.png\"\n",
    "INPUT_FILES_TRUE = glob2.glob(INPUT_TRUE)\n",
    "\n",
    "INPUT_RANDOM = \"/home/maia/Documents/Universidade/Universidade/UNIVERSIDADE/EXPERIMENTO/3EVALUATE/1RANDOM_LABELS/EXPLAIN/XRAY/OUT/VGG_res_random4224/*/*.png\"\n",
    "INPUT_FILES_RANDOM = glob2.glob(INPUT_RANDOM)\n"
   ]
  },
  {
   "cell_type": "code",
   "execution_count": 4,
   "metadata": {},
   "outputs": [],
   "source": [
    "def image_generator(directory, res):\n",
    "    test_datagen = ImageDataGenerator()\n",
    "    image_generator = test_datagen.flow_from_directory(\n",
    "            directory,\n",
    "            target_size=(res, res),\n",
    "            batch_size=1,\n",
    "            shuffle=False,\n",
    "            class_mode='categorical')\n",
    "    return image_generator"
   ]
  },
  {
   "cell_type": "code",
   "execution_count": 5,
   "metadata": {},
   "outputs": [
    {
     "name": "stderr",
     "output_type": "stream",
     "text": [
      "/home/maia/anaconda3/envs/MST_TFE/lib/python3.8/site-packages/scipy/stats/stats.py:4196: SpearmanRConstantInputWarning: An input array is constant; the correlation coefficent is not defined.\n",
      "  warnings.warn(SpearmanRConstantInputWarning())\n"
     ]
    }
   ],
   "source": [
    "result_dict = {\n",
    "    \"im_true\" : [],\n",
    "    \"im_random\" : [],\n",
    "    \"corr\" : [],\n",
    "    \"pvalue\" : [],\n",
    "    \"method\" : []\n",
    "}\n",
    "for im_TRUE, im_RANDOM in zip(INPUT_FILES_TRUE, INPUT_FILES_RANDOM):\n",
    "    hog = cv2.HOGDescriptor()\n",
    "    h_true = hog.compute(cv2.imread(im_TRUE))\n",
    "    h_random = hog.compute(cv2.imread(im_RANDOM))\n",
    "    res_cor = spr(h_true, h_random)\n",
    "    result_dict[\"method\"].append(im_TRUE.split(\"/\")[12])\n",
    "    result_dict[\"im_true\"].append(im_TRUE)\n",
    "    result_dict[\"im_random\"].append(im_RANDOM)\n",
    "    result_dict[\"corr\"].append(res_cor.correlation)\n",
    "    result_dict[\"pvalue\"].append(res_cor.pvalue)\n",
    "\n",
    "result_df = pd.DataFrame(result_dict)\n",
    "result_df.to_csv(\"result.csv\")"
   ]
  },
  {
   "cell_type": "code",
   "execution_count": null,
   "metadata": {},
   "outputs": [],
   "source": []
  }
 ],
 "metadata": {
  "kernelspec": {
   "display_name": "Python [conda env:MST_TFE]",
   "language": "python",
   "name": "conda-env-MST_TFE-py"
  },
  "language_info": {
   "codemirror_mode": {
    "name": "ipython",
    "version": 3
   },
   "file_extension": ".py",
   "mimetype": "text/x-python",
   "name": "python",
   "nbconvert_exporter": "python",
   "pygments_lexer": "ipython3",
   "version": "3.8.5"
  }
 },
 "nbformat": 4,
 "nbformat_minor": 4
}
