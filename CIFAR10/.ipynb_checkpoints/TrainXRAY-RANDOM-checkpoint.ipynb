{
 "cells": [
  {
   "cell_type": "markdown",
   "metadata": {},
   "source": [
    "## XRAY - VGG16"
   ]
  },
  {
   "cell_type": "code",
   "execution_count": 1,
   "metadata": {
    "scrolled": true
   },
   "outputs": [
    {
     "name": "stdout",
     "output_type": "stream",
     "text": [
      "1 Physical GPUs, 1 Logical GPUs\n",
      "2.2.0\n"
     ]
    },
    {
     "data": {
      "text/plain": [
       "[PhysicalDevice(name='/physical_device:GPU:0', device_type='GPU')]"
      ]
     },
     "execution_count": 1,
     "metadata": {},
     "output_type": "execute_result"
    }
   ],
   "source": [
    "#Importing Necessary Libraries.\n",
    "from PIL import Image\n",
    "import numpy as np\n",
    "import pandas as pd \n",
    "import os\n",
    "#import cv2\n",
    "\n",
    "import matplotlib.pyplot as plt\n",
    "import tensorflow as tf\n",
    "from pathlib import Path\n",
    "\n",
    "gpus = tf.config.list_physical_devices('GPU')\n",
    "if gpus:\n",
    "    try:\n",
    "        tf.config.experimental.set_memory_growth(gpus[0], True)\n",
    "        tf.config.experimental.set_virtual_device_configuration(\n",
    "            gpus[0],\n",
    "            [tf.config.experimental.VirtualDeviceConfiguration(memory_limit=4000)])\n",
    "        logical_gpus = tf.config.experimental.list_logical_devices('GPU')\n",
    "        print(len(gpus), \"Physical GPUs,\", len(logical_gpus), \"Logical GPUs\")\n",
    "    except RuntimeError as e:\n",
    "    # Virtual devices must be set before GPUs have been initialized\n",
    "        print(e)\n",
    "    \n",
    "from tensorflow import keras\n",
    "from tensorflow.keras.models import Sequential\n",
    "from tensorflow.keras.layers import *\n",
    "from tensorflow.keras import backend as K\n",
    "from tensorflow.keras.utils import plot_model\n",
    "from tensorflow.keras.preprocessing.image import ImageDataGenerator, array_to_img, img_to_array, load_img\n",
    "from keras_lr_finder import LRFinder\n",
    "from tensorflow.keras.callbacks import LearningRateScheduler\n",
    "from tensorflow.python.keras import backend\n",
    "from tensorflow.python.keras.applications import imagenet_utils\n",
    "\n",
    "from sklearn.utils import class_weight \n",
    "\n",
    "print(tf.__version__)\n",
    "tf.config.list_physical_devices('GPU')"
   ]
  },
  {
   "cell_type": "code",
   "execution_count": 2,
   "metadata": {},
   "outputs": [],
   "source": [
    "database_directory = \"/home/maia/Documents/Universidade/Universidade/UNIVERSIDADE/MESTRADO/CADEIRAS/FPCC2/CIFAR10/cifar10/\"\n",
    "res_list = [224]\n",
    "out_dir = \"/home/maia/Documents/Universidade/Universidade/UNIVERSIDADE/MESTRADO/CADEIRAS/FPCC2/CIFAR10/OUT/\"\n",
    "max_epochs = 15"
   ]
  },
  {
   "cell_type": "code",
   "execution_count": 3,
   "metadata": {},
   "outputs": [],
   "source": [
    "import matplotlib.pyplot as plt\n",
    "from matplotlib.ticker import MaxNLocator\n",
    "def plot_and_save(history, modelName, path):\n",
    "    fig, axs = plt.subplots(2, figsize=(18, 10))\n",
    "    axs[0].set_ylim(0,1)\n",
    "    axs[0].plot(range(1,max_epochs+1), history['accuracy'], 'o-')\n",
    "    axs[0].plot(range(1,max_epochs+1), history['val_accuracy'], 'o-')\n",
    "    axs[0].set_title('model accuracy')\n",
    "    axs[0].set_ylabel('accuracy')\n",
    "    axs[0].set_xlabel('epoch')\n",
    "    axs[0].legend(['train', 'validation'], loc='lower left')\n",
    "    axs[0].xaxis.set_major_locator(MaxNLocator(integer=True))\n",
    "    axs[0].set_xticks(range(1,max_epochs+1))\n",
    "\n",
    "    # \"Loss\"\n",
    "    axs[1].plot(range(1,max_epochs+1), history['loss'], 'o-')\n",
    "    axs[1].plot(range(1,max_epochs+1),history['val_loss'], 'o-')\n",
    "    axs[1].set_title('model loss')\n",
    "    axs[1].set_ylabel('loss')\n",
    "    axs[1].set_xlabel('epoch')\n",
    "    axs[1].legend(['train', 'validation'], loc='upper left')\n",
    "    axs[1].xaxis.set_major_locator(MaxNLocator(integer=True))\n",
    "    axs[1].set_xticks(range(1,max_epochs+1))\n",
    "    \n",
    "    plt.savefig(path+  modelName +'.png')\n",
    "    plt.show()\n",
    "    plt.draw()\n",
    "#plot_and_save(history, modelName)"
   ]
  },
  {
   "cell_type": "code",
   "execution_count": 4,
   "metadata": {},
   "outputs": [
    {
     "name": "stdout",
     "output_type": "stream",
     "text": [
      "Found 5232 images belonging to 2 classes.\n",
      "Found 624 images belonging to 2 classes.\n"
     ]
    },
    {
     "name": "stderr",
     "output_type": "stream",
     "text": [
      "/home/maia/anaconda3/envs/MST_TRAIN/lib/python3.7/site-packages/sklearn/utils/validation.py:72: FutureWarning: Pass classes=[0 1], y=[0 0 0 ... 1 1 1] as keyword args. From version 1.0 (renaming of 0.25) passing these as positional arguments will result in an error\n",
      "  \"will result in an error\", FutureWarning)\n"
     ]
    },
    {
     "name": "stdout",
     "output_type": "stream",
     "text": [
      "Model: \"vgg16\"\n",
      "_________________________________________________________________\n",
      "Layer (type)                 Output Shape              Param #   \n",
      "=================================================================\n",
      "input_1 (InputLayer)         [(None, 224, 224, 3)]     0         \n",
      "_________________________________________________________________\n",
      "block1_conv1 (Conv2D)        (None, 224, 224, 64)      1792      \n",
      "_________________________________________________________________\n",
      "block1_conv2 (Conv2D)        (None, 224, 224, 64)      36928     \n",
      "_________________________________________________________________\n",
      "block1_pool (MaxPooling2D)   (None, 112, 112, 64)      0         \n",
      "_________________________________________________________________\n",
      "block2_conv1 (Conv2D)        (None, 112, 112, 128)     73856     \n",
      "_________________________________________________________________\n",
      "block2_conv2 (Conv2D)        (None, 112, 112, 128)     147584    \n",
      "_________________________________________________________________\n",
      "block2_pool (MaxPooling2D)   (None, 56, 56, 128)       0         \n",
      "_________________________________________________________________\n",
      "block3_conv1 (Conv2D)        (None, 56, 56, 256)       295168    \n",
      "_________________________________________________________________\n",
      "block3_conv2 (Conv2D)        (None, 56, 56, 256)       590080    \n",
      "_________________________________________________________________\n",
      "block3_conv3 (Conv2D)        (None, 56, 56, 256)       590080    \n",
      "_________________________________________________________________\n",
      "block3_pool (MaxPooling2D)   (None, 28, 28, 256)       0         \n",
      "_________________________________________________________________\n",
      "block4_conv1 (Conv2D)        (None, 28, 28, 512)       1180160   \n",
      "_________________________________________________________________\n",
      "block4_conv2 (Conv2D)        (None, 28, 28, 512)       2359808   \n",
      "_________________________________________________________________\n",
      "block4_conv3 (Conv2D)        (None, 28, 28, 512)       2359808   \n",
      "_________________________________________________________________\n",
      "block4_pool (MaxPooling2D)   (None, 14, 14, 512)       0         \n",
      "_________________________________________________________________\n",
      "block5_conv1 (Conv2D)        (None, 14, 14, 512)       2359808   \n",
      "_________________________________________________________________\n",
      "block5_conv2 (Conv2D)        (None, 14, 14, 512)       2359808   \n",
      "_________________________________________________________________\n",
      "block5_conv3 (Conv2D)        (None, 14, 14, 512)       2359808   \n",
      "_________________________________________________________________\n",
      "block5_pool (MaxPooling2D)   (None, 7, 7, 512)         0         \n",
      "_________________________________________________________________\n",
      "flatten (Flatten)            (None, 25088)             0         \n",
      "_________________________________________________________________\n",
      "fc1 (Dense)                  (None, 4096)              102764544 \n",
      "_________________________________________________________________\n",
      "fc2 (Dense)                  (None, 4096)              16781312  \n",
      "_________________________________________________________________\n",
      "predictions (Dense)          (None, 2)                 8194      \n",
      "=================================================================\n",
      "Total params: 134,268,738\n",
      "Trainable params: 134,268,738\n",
      "Non-trainable params: 0\n",
      "_________________________________________________________________\n",
      "WARNING:tensorflow:`period` argument is deprecated. Please use `save_freq` to specify the frequency in number of batches seen.\n",
      "Epoch 1/15\n",
      "327/327 [==============================] - 111s 339ms/step - loss: 0.3973 - accuracy: 0.8085 - val_loss: 0.5383 - val_accuracy: 0.8622 - lr: 1.0000e-04\n",
      "Epoch 2/15\n",
      "327/327 [==============================] - 111s 341ms/step - loss: 0.1693 - accuracy: 0.9333 - val_loss: 1.0809 - val_accuracy: 0.7901 - lr: 1.0000e-04\n",
      "Epoch 3/15\n",
      "327/327 [==============================] - 111s 339ms/step - loss: 0.1421 - accuracy: 0.9398 - val_loss: 0.5531 - val_accuracy: 0.9038 - lr: 1.0000e-04\n",
      "Epoch 4/15\n",
      "327/327 [==============================] - 111s 339ms/step - loss: 0.1094 - accuracy: 0.9560 - val_loss: 0.3789 - val_accuracy: 0.8510 - lr: 1.0000e-04\n",
      "Epoch 5/15\n",
      "327/327 [==============================] - 110s 338ms/step - loss: 0.1088 - accuracy: 0.9553 - val_loss: 0.8689 - val_accuracy: 0.8061 - lr: 1.0000e-04\n",
      "Epoch 6/15\n",
      "327/327 [==============================] - 110s 335ms/step - loss: 0.0790 - accuracy: 0.9696 - val_loss: 0.4326 - val_accuracy: 0.8654 - lr: 7.5000e-05\n",
      "Epoch 7/15\n",
      "327/327 [==============================] - 111s 340ms/step - loss: 0.0741 - accuracy: 0.9688 - val_loss: 0.6415 - val_accuracy: 0.8462 - lr: 7.5000e-05\n",
      "Epoch 8/15\n",
      "327/327 [==============================] - 111s 339ms/step - loss: 0.0631 - accuracy: 0.9750 - val_loss: 0.8722 - val_accuracy: 0.8478 - lr: 7.5000e-05\n",
      "Epoch 9/15\n",
      "327/327 [==============================] - 111s 341ms/step - loss: 0.0628 - accuracy: 0.9763 - val_loss: 0.5589 - val_accuracy: 0.8782 - lr: 7.5000e-05\n",
      "Epoch 10/15\n",
      "327/327 [==============================] - 111s 339ms/step - loss: 0.0508 - accuracy: 0.9784 - val_loss: 0.4865 - val_accuracy: 0.8830 - lr: 7.5000e-05\n",
      "Epoch 11/15\n",
      "327/327 [==============================] - 111s 340ms/step - loss: 0.0420 - accuracy: 0.9834 - val_loss: 0.4698 - val_accuracy: 0.8750 - lr: 5.6250e-05\n",
      "Epoch 12/15\n",
      "327/327 [==============================] - 111s 340ms/step - loss: 0.0345 - accuracy: 0.9864 - val_loss: 1.1940 - val_accuracy: 0.8317 - lr: 5.6250e-05\n",
      "Epoch 13/15\n",
      "327/327 [==============================] - 111s 339ms/step - loss: 0.0301 - accuracy: 0.9897 - val_loss: 0.9885 - val_accuracy: 0.8734 - lr: 5.6250e-05\n",
      "Epoch 14/15\n",
      "327/327 [==============================] - 111s 339ms/step - loss: 0.0376 - accuracy: 0.9860 - val_loss: 0.9364 - val_accuracy: 0.8606 - lr: 5.6250e-05\n",
      "Epoch 15/15\n",
      "327/327 [==============================] - 104s 319ms/step - loss: 0.0475 - accuracy: 0.9822 - val_loss: 0.5540 - val_accuracy: 0.8221 - lr: 5.6250e-05\n",
      "Failed to import pydot. You must install pydot and graphviz for `pydotprint` to work.\n"
     ]
    },
    {
     "data": {
      "image/png": "[encoded data removed]",
      "text/plain": [
       "<Figure size 1296x720 with 2 Axes>"
      ]
     },
     "metadata": {
      "needs_background": "light"
     },
     "output_type": "display_data"
    },
    {
     "data": {
      "text/plain": [
       "<Figure size 432x288 with 0 Axes>"
      ]
     },
     "metadata": {},
     "output_type": "display_data"
    }
   ],
   "source": [
    "def step_decay_schedule(initial_lr=1e-3, decay_factor=0.75, step_size=10):\n",
    "    def schedule(epoch):\n",
    "        return initial_lr * (decay_factor ** np.floor(epoch/step_size))\n",
    "    return LearningRateScheduler(schedule)\n",
    "\n",
    "lr_sched = step_decay_schedule(initial_lr=10e-5, decay_factor=0.75, step_size=5)\n",
    "\n",
    "def train(res, train_generator, test_generator, class_weights):\n",
    "    modelName = 'VGG_res_10e5_75_weight'+str(res)\n",
    "    Path.mkdir(Path(out_dir+modelName), parents=True, exist_ok=True)\n",
    "    out_run = out_dir+modelName+\"/\"\n",
    "    model = tf.keras.applications.VGG16(input_shape=(res, res, 3), include_top=True,weights = None, classes=2)\n",
    "    model.summary()\n",
    "    mc = keras.callbacks.ModelCheckpoint(out_run + modelName+'_w{epoch:05d}.h5', save_weights_only=False, period=1)\n",
    "    optimizer = tf.keras.optimizers.Adam()\n",
    "    model.compile(loss='categorical_crossentropy', optimizer=optimizer, metrics=['accuracy'])\n",
    "    history = model.fit(x=train_generator,epochs=max_epochs,validation_data=test_generator, callbacks=[mc, lr_sched], shuffle=True, class_weight=class_weights)\n",
    "    np.save(out_run + modelName +'my_history.npy',history.history)\n",
    "    plot_model(model, to_file= out_run + modelName+'_arc.png',expand_nested=True, show_shapes=True)\n",
    "    plot_and_save(history.history, modelName, out_run)\n",
    "\n",
    "for res in res_list:\n",
    "    h_input = res\n",
    "    w_input = res\n",
    "    batch_size = 16\n",
    "    \n",
    "\n",
    "    train_datagen = ImageDataGenerator(horizontal_flip=True)\n",
    "    test_datagen = ImageDataGenerator()\n",
    "    train_generator = train_datagen.flow_from_directory(\n",
    "            database_directory+\"train\",\n",
    "            target_size=(h_input, w_input),\n",
    "            batch_size=batch_size,\n",
    "            class_mode='categorical')\n",
    "\n",
    "    # this is a similar generator, for validation data\n",
    "    test_generator = test_datagen.flow_from_directory(\n",
    "            database_directory+\"test\",\n",
    "            target_size=(h_input, w_input),\n",
    "            batch_size=batch_size,\n",
    "            class_mode='categorical')\n",
    "    \n",
    "    class_weights = class_weight.compute_class_weight(\n",
    "           'balanced',\n",
    "            np.unique(train_generator.classes), \n",
    "            train_generator.classes)\n",
    "    class_weights = dict(enumerate(class_weights))\n",
    "\n",
    "    \n",
    "    train(res, train_generator, test_generator, class_weights)"
   ]
  },
  {
   "cell_type": "markdown",
   "metadata": {},
   "source": [
    "## Blocks"
   ]
  },
  {
   "cell_type": "code",
   "execution_count": null,
   "metadata": {},
   "outputs": [],
   "source": [
    "layers = VersionAwareLayers()\n",
    "\n",
    "def teste(\n",
    "    include_top=True,\n",
    "    input_tensor=None,\n",
    "    input_shape=None,\n",
    "    classes=1000,\n",
    "    classifier_activation='softmax',\n",
    "    blocks = 5):\n",
    "\n",
    "    input_shape = imagenet_utils.obtain_input_shape(\n",
    "      input_shape,\n",
    "      default_size=224,\n",
    "      min_size=32,\n",
    "      data_format=backend.image_data_format(),\n",
    "      require_flatten=include_top,\n",
    "      weights=weights)\n",
    "\n",
    "    if input_tensor is None:\n",
    "        img_input = layers.Input(shape=input_shape)\n",
    "    else:\n",
    "        if not backend.is_keras_tensor(input_tensor):\n",
    "            img_input = layers.Input(tensor=input_tensor, shape=input_shape)\n",
    "        else:\n",
    "            img_input = input_tensor\n",
    "\n",
    "    if(blocks >= 1):\n",
    "        # Block 1\n",
    "        x = layers.Conv2D(\n",
    "        64, (3, 3), activation='relu', padding='same', name='block1_conv1')(\n",
    "        img_input)\n",
    "        x = layers.Conv2D(\n",
    "        64, (3, 3), activation='relu', padding='same', name='block1_conv2')(x)\n",
    "        x = layers.MaxPooling2D((2, 2), strides=(2, 2), name='block1_pool')(x)\n",
    "\n",
    "    if(blocks >= 2):\n",
    "        # Block 2\n",
    "        x = layers.Conv2D(\n",
    "        128, (3, 3), activation='relu', padding='same', name='block2_conv1')(x)\n",
    "        x = layers.Conv2D(\n",
    "        128, (3, 3), activation='relu', padding='same', name='block2_conv2')(x)\n",
    "        x = layers.MaxPooling2D((2, 2), strides=(2, 2), name='block2_pool')(x)\n",
    "\n",
    "    if(blocks >= 3):\n",
    "        # Block 3\n",
    "        x = layers.Conv2D(\n",
    "        256, (3, 3), activation='relu', padding='same', name='block3_conv1')(x)\n",
    "        x = layers.Conv2D(\n",
    "        256, (3, 3), activation='relu', padding='same', name='block3_conv2')(x)\n",
    "        x = layers.Conv2D(\n",
    "        256, (3, 3), activation='relu', padding='same', name='block3_conv3')(x)\n",
    "        x = layers.MaxPooling2D((2, 2), strides=(2, 2), name='block3_pool')(x)\n",
    "\n",
    "    if(blocks >= 4):\n",
    "        # Block 4\n",
    "        x = layers.Conv2D(\n",
    "        512, (3, 3), activation='relu', padding='same', name='block4_conv1')(x)\n",
    "        x = layers.Conv2D(\n",
    "        512, (3, 3), activation='relu', padding='same', name='block4_conv2')(x)\n",
    "        x = layers.Conv2D(\n",
    "        512, (3, 3), activation='relu', padding='same', name='block4_conv3')(x)\n",
    "        x = layers.MaxPooling2D((2, 2), strides=(2, 2), name='block4_pool')(x)\n",
    "\n",
    "    if(blocks >= 5):\n",
    "        # Block 5\n",
    "        x = layers.Conv2D(\n",
    "        512, (3, 3), activation='relu', padding='same', name='block5_conv1')(x)\n",
    "        x = layers.Conv2D(\n",
    "        512, (3, 3), activation='relu', padding='same', name='block5_conv2')(x)\n",
    "        x = layers.Conv2D(\n",
    "        512, (3, 3), activation='relu', padding='same', name='block5_conv3')(x)\n",
    "        x = layers.MaxPooling2D((2, 2), strides=(2, 2), name='block5_pool')(x)\n",
    "        \n",
    "    if include_top:\n",
    "        # Classification block\n",
    "        #x = layers.Flatten(name='flatten')(x)\n",
    "        x = layers.GlobalAveragePooling2D()(x)\n",
    "        x = layers.Dense(4096, activation='relu', name='fc1')(x)\n",
    "        x = layers.Dense(4096, activation='relu', name='fc2')(x)\n",
    "\n",
    "        imagenet_utils.validate_activation(classifier_activation, weights)\n",
    "        x = layers.Dense(classes, activation=classifier_activation,\n",
    "                         name='predictions')(x)\n",
    "\n",
    "    if input_tensor is not None:\n",
    "        inputs = layer_utils.get_source_inputs(input_tensor)\n",
    "    else:\n",
    "        inputs = img_input\n",
    "    model = training.Model(inputs, x, name='vgg16')\n",
    "\n",
    "    return model"
   ]
  },
  {
   "cell_type": "code",
   "execution_count": null,
   "metadata": {},
   "outputs": [],
   "source": [
    "model = teste(input_shape=(255, 255, 3), include_top=True,weights = None, classes=2, blocks = 4)"
   ]
  },
  {
   "cell_type": "markdown",
   "metadata": {},
   "source": [
    "# TESTE"
   ]
  },
  {
   "cell_type": "code",
   "execution_count": null,
   "metadata": {},
   "outputs": [],
   "source": [
    "res = 224\n",
    "h_input = 224\n",
    "w_input = 224\n",
    "batch_size = 16\n",
    "\n",
    "\n",
    "train_datagen = ImageDataGenerator(horizontal_flip=True)\n",
    "test_datagen = ImageDataGenerator()\n",
    "train_generator = train_datagen.flow_from_directory(\n",
    "        database_directory+\"train\",\n",
    "        target_size=(h_input, w_input),\n",
    "        batch_size=batch_size,\n",
    "        class_mode='categorical')\n",
    "\n",
    "# this is a similar generator, for validation data\n",
    "test_generator = test_datagen.flow_from_directory(\n",
    "        database_directory+\"test\",\n",
    "        target_size=(h_input, w_input),\n",
    "        batch_size=batch_size,\n",
    "        class_mode='categorical')\n",
    "\n",
    "modelName = 'VGG_res_'+str(res)\n",
    "model = tf.keras.applications.VGG16(input_shape=(res, res, 3), include_top=True,weights = None, classes=2)\n",
    "model.summary()\n",
    "\n",
    "optimizer = tf.keras.optimizers.Adam(lr = 0.0001)\n",
    "model.compile(loss='categorical_crossentropy', optimizer=optimizer, metrics=['accuracy'])\n",
    "\n",
    "#history = model.fit(x=train_generator,epochs=max_epochs,validation_data=test_generator,  shuffle=True)"
   ]
  },
  {
   "cell_type": "code",
   "execution_count": 5,
   "metadata": {},
   "outputs": [],
   "source": [
    "# model is a Keras model\n",
    "lr_finder = LRFinder(model)"
   ]
  },
  {
   "cell_type": "code",
   "execution_count": null,
   "metadata": {},
   "outputs": [],
   "source": [
    "lr_finder.find(x_train, y_train, 0.0001, 1, 32, 5)"
   ]
  },
  {
   "cell_type": "code",
   "execution_count": null,
   "metadata": {},
   "outputs": [],
   "source": [
    "len() "
   ]
  },
  {
   "cell_type": "code",
   "execution_count": 21,
   "metadata": {},
   "outputs": [
    {
     "data": {
      "image/png": "[encoded data removed]",
      "text/plain": [
       "<Figure size 432x288 with 1 Axes>"
      ]
     },
     "metadata": {
      "needs_background": "light"
     },
     "output_type": "display_data"
    }
   ],
   "source": [
    "lr_finder.plot_loss()"
   ]
  },
  {
   "cell_type": "code",
   "execution_count": 27,
   "metadata": {},
   "outputs": [
    {
     "data": {
      "image/png": "[encoded data removed]",
      "text/plain": [
       "<Figure size 432x288 with 1 Axes>"
      ]
     },
     "metadata": {
      "needs_background": "light"
     },
     "output_type": "display_data"
    }
   ],
   "source": [
    "lr_finder.plot_loss_change(sma=10)"
   ]
  },
  {
   "cell_type": "code",
   "execution_count": 29,
   "metadata": {},
   "outputs": [
    {
     "ename": "IndexError",
     "evalue": "invalid index to scalar variable.",
     "output_type": "error",
     "traceback": [
      "\u001b[0;31m---------------------------------------------------------------------------\u001b[0m",
      "\u001b[0;31mIndexError\u001b[0m                                Traceback (most recent call last)",
      "\u001b[0;32m<ipython-input-29-4ceb9018ff14>\u001b[0m in \u001b[0;36m<module>\u001b[0;34m\u001b[0m\n\u001b[0;32m----> 1\u001b[0;31m \u001b[0mlr_finder\u001b[0m\u001b[0;34m.\u001b[0m\u001b[0mget_best_lr\u001b[0m\u001b[0;34m(\u001b[0m\u001b[0msma\u001b[0m\u001b[0;34m=\u001b[0m\u001b[0;36m5\u001b[0m\u001b[0;34m)\u001b[0m\u001b[0;34m\u001b[0m\u001b[0;34m\u001b[0m\u001b[0m\n\u001b[0m",
      "\u001b[0;32m<ipython-input-4-d23bf323c470>\u001b[0m in \u001b[0;36mget_best_lr\u001b[0;34m(self, sma, n_skip_beginning, n_skip_end)\u001b[0m\n\u001b[1;32m    145\u001b[0m     \u001b[0;32mdef\u001b[0m \u001b[0mget_best_lr\u001b[0m\u001b[0;34m(\u001b[0m\u001b[0mself\u001b[0m\u001b[0;34m,\u001b[0m \u001b[0msma\u001b[0m\u001b[0;34m,\u001b[0m \u001b[0mn_skip_beginning\u001b[0m\u001b[0;34m=\u001b[0m\u001b[0;36m10\u001b[0m\u001b[0;34m,\u001b[0m \u001b[0mn_skip_end\u001b[0m\u001b[0;34m=\u001b[0m\u001b[0;36m5\u001b[0m\u001b[0;34m)\u001b[0m\u001b[0;34m:\u001b[0m\u001b[0;34m\u001b[0m\u001b[0;34m\u001b[0m\u001b[0m\n\u001b[1;32m    146\u001b[0m         \u001b[0mderivatives\u001b[0m \u001b[0;34m=\u001b[0m \u001b[0mself\u001b[0m\u001b[0;34m.\u001b[0m\u001b[0mget_derivatives\u001b[0m\u001b[0;34m(\u001b[0m\u001b[0msma\u001b[0m\u001b[0;34m)\u001b[0m\u001b[0;34m\u001b[0m\u001b[0;34m\u001b[0m\u001b[0m\n\u001b[0;32m--> 147\u001b[0;31m         \u001b[0mbest_der_idx\u001b[0m \u001b[0;34m=\u001b[0m \u001b[0mnp\u001b[0m\u001b[0;34m.\u001b[0m\u001b[0margmax\u001b[0m\u001b[0;34m(\u001b[0m\u001b[0mderivatives\u001b[0m\u001b[0;34m[\u001b[0m\u001b[0mn_skip_beginning\u001b[0m\u001b[0;34m:\u001b[0m\u001b[0;34m-\u001b[0m\u001b[0mn_skip_end\u001b[0m\u001b[0;34m]\u001b[0m\u001b[0;34m)\u001b[0m\u001b[0;34m[\u001b[0m\u001b[0;36m0\u001b[0m\u001b[0;34m]\u001b[0m\u001b[0;34m\u001b[0m\u001b[0;34m\u001b[0m\u001b[0m\n\u001b[0m\u001b[1;32m    148\u001b[0m         \u001b[0;32mreturn\u001b[0m \u001b[0mself\u001b[0m\u001b[0;34m.\u001b[0m\u001b[0mlrs\u001b[0m\u001b[0;34m[\u001b[0m\u001b[0mn_skip_beginning\u001b[0m\u001b[0;34m:\u001b[0m\u001b[0;34m-\u001b[0m\u001b[0mn_skip_end\u001b[0m\u001b[0;34m]\u001b[0m\u001b[0;34m[\u001b[0m\u001b[0mbest_der_idx\u001b[0m\u001b[0;34m]\u001b[0m\u001b[0;34m\u001b[0m\u001b[0;34m\u001b[0m\u001b[0m\n",
      "\u001b[0;31mIndexError\u001b[0m: invalid index to scalar variable."
     ]
    }
   ],
   "source": [
    "lr_finder.get_best_lr(sma=5)"
   ]
  },
  {
   "cell_type": "code",
   "execution_count": 4,
   "metadata": {},
   "outputs": [],
   "source": [
    "from matplotlib import pyplot as plt\n",
    "import math\n",
    "from tensorflow.keras.callbacks import LambdaCallback\n",
    "import tensorflow.keras.backend as K\n",
    "import numpy as np\n",
    "\n",
    "\n",
    "class LRFinder2:\n",
    "    \"\"\"\n",
    "    Plots the change of the loss function of a Keras model when the learning rate is exponentially increasing.\n",
    "    See for details:\n",
    "    https://towardsdatascience.com/estimating-optimal-learning-rate-for-a-deep-neural-network-ce32f2556ce0\n",
    "    \"\"\"\n",
    "\n",
    "    def __init__(self, model):\n",
    "        self.model = model\n",
    "        self.losses = []\n",
    "        self.lrs = []\n",
    "        self.best_loss = 1e9\n",
    "\n",
    "    def on_batch_end(self, batch, logs):\n",
    "        # Log the learning rate\n",
    "        lr = K.get_value(self.model.optimizer.learning_rate)\n",
    "        self.lrs.append(lr)\n",
    "\n",
    "        # Log the loss\n",
    "        loss = logs['loss']\n",
    "        self.losses.append(loss)\n",
    "\n",
    "        # Check whether the loss got too large or NaN\n",
    "        if batch > 5 and (math.isnan(loss) or loss > self.best_loss * 4):\n",
    "            self.model.stop_training = True\n",
    "            return\n",
    "\n",
    "        if loss < self.best_loss:\n",
    "            self.best_loss = loss\n",
    "\n",
    "        # Increase the learning rate for the next batch\n",
    "        lr *= self.lr_mult\n",
    "        K.set_value(self.model.optimizer.learning_rate, lr)\n",
    "\n",
    "    def find(self, x_train, y_train, start_lr, end_lr, batch_size=64, epochs=1):\n",
    "        # If x_train contains data for multiple inputs, use length of the first input.\n",
    "        # Assumption: the first element in the list is single input; NOT a list of inputs.\n",
    "        N = x_train[0].shape[0] if isinstance(x_train, list) else x_train.shape[0]\n",
    "\n",
    "        # Compute number of batches and LR multiplier\n",
    "        num_batches = epochs * N / batch_size\n",
    "        self.lr_mult = (float(end_lr) / float(start_lr)) ** (float(1) / float(num_batches))\n",
    "        # Save weights into a file\n",
    "        self.model.save_weights('tmp.h5')\n",
    "\n",
    "        # Remember the original learning rate\n",
    "        original_lr = K.get_value(self.model.optimizer.learning_rate)\n",
    "\n",
    "        # Set the initial learning rate\n",
    "        K.set_value(self.model.optimizer.learning_rate, start_lr)\n",
    "\n",
    "        callback = LambdaCallback(on_batch_end=lambda batch, logs: self.on_batch_end(batch, logs))\n",
    "\n",
    "        self.model.fit(x_train, y_train,\n",
    "                       batch_size=batch_size, epochs=epochs,\n",
    "                       callbacks=[callback])\n",
    "\n",
    "        # Restore the weights to the state before model fitting\n",
    "        self.model.load_weights('tmp.h5')\n",
    "\n",
    "        # Restore the original learning rate\n",
    "        K.set_value(self.model.optimizer.learning_rate, original_lr)\n",
    "\n",
    "    def find_generator(self, generator, start_lr, end_lr, epochs=1, steps_per_epoch=None, **kw_fit):\n",
    "        if steps_per_epoch is None:\n",
    "            try:\n",
    "                steps_per_epoch = len(generator)\n",
    "            except (ValueError, NotImplementedError) as e:\n",
    "                raise e('`steps_per_epoch=None` is only valid for a'\n",
    "                        ' generator based on the '\n",
    "                        '`keras.utils.Sequence`'\n",
    "                        ' class. Please specify `steps_per_epoch` '\n",
    "                        'or use the `keras.utils.Sequence` class.')\n",
    "        self.lr_mult = (float(end_lr) / float(start_lr)) ** (float(1) / float(epochs * steps_per_epoch))\n",
    "\n",
    "        # Save weights into a file\n",
    "        self.model.save_weights('tmp.h5')\n",
    "\n",
    "        # Remember the original learning rate\n",
    "        original_lr = K.get_value(self.model.optimizer.learning_rate)\n",
    "\n",
    "        # Set the initial learning rate\n",
    "        K.set_value(self.model.optimizer.learning_rate, start_lr)\n",
    "\n",
    "        callback = LambdaCallback(on_batch_end=lambda batch,\n",
    "                                                      logs: self.on_batch_end(batch, logs))\n",
    "\n",
    "        self.model.fit_generator(generator=generator,\n",
    "                                 epochs=epochs,\n",
    "                                 steps_per_epoch=steps_per_epoch,\n",
    "                                 callbacks=[callback],\n",
    "                                 **kw_fit)\n",
    "\n",
    "        # Restore the weights to the state before model fitting\n",
    "        self.model.load_weights('tmp.h5')\n",
    "\n",
    "        # Restore the original learning rate\n",
    "        K.set_value(self.model.optimizer.learning_rate, original_lr)\n",
    "\n",
    "    def plot_loss(self, n_skip_beginning=10, n_skip_end=5, x_scale='log'):\n",
    "        \"\"\"\n",
    "        Plots the loss.\n",
    "        Parameters:\n",
    "            n_skip_beginning - number of batches to skip on the left.\n",
    "            n_skip_end - number of batches to skip on the right.\n",
    "        \"\"\"\n",
    "        plt.ylabel(\"loss\")\n",
    "        plt.xlabel(\"learning rate (log scale)\")\n",
    "        plt.plot(self.lrs[n_skip_beginning:-n_skip_end], self.losses[n_skip_beginning:-n_skip_end])\n",
    "        plt.xscale(x_scale)\n",
    "        plt.show()\n",
    "\n",
    "    def plot_loss_change(self, sma=1, n_skip_beginning=10, n_skip_end=5, y_lim=(-0.01, 0.01)):\n",
    "        \"\"\"\n",
    "        Plots rate of change of the loss function.\n",
    "        Parameters:\n",
    "            sma - number of batches for simple moving average to smooth out the curve.\n",
    "            n_skip_beginning - number of batches to skip on the left.\n",
    "            n_skip_end - number of batches to skip on the right.\n",
    "            y_lim - limits for the y axis.\n",
    "        \"\"\"\n",
    "        derivatives = self.get_derivatives(sma)[n_skip_beginning:-n_skip_end]\n",
    "        lrs = self.lrs[n_skip_beginning:-n_skip_end]\n",
    "        plt.ylabel(\"rate of loss change\")\n",
    "        plt.xlabel(\"learning rate (log scale)\")\n",
    "        plt.plot(lrs, derivatives)\n",
    "        plt.xscale('log')\n",
    "        plt.ylim(y_lim)\n",
    "        plt.show()\n",
    "\n",
    "    def get_derivatives(self, sma):\n",
    "        assert sma >= 1\n",
    "        derivatives = [0] * sma\n",
    "        for i in range(sma, len(self.lrs)):\n",
    "            derivatives.append((self.losses[i] - self.losses[i - sma]) / sma)\n",
    "        return derivatives\n",
    "\n",
    "    def get_best_lr(self, sma, n_skip_beginning=10, n_skip_end=5):\n",
    "        derivatives = self.get_derivatives(sma)\n",
    "        best_der_idx = np.argmax(derivatives[n_skip_beginning:-n_skip_end])[0]\n",
    "        return self.lrs[n_skip_beginning:-n_skip_end][best_der_idx]\n"
   ]
  }
 ],
 "metadata": {
  "kernelspec": {
   "display_name": "Python [conda env:MST_TRAIN]",
   "language": "python",
   "name": "conda-env-MST_TRAIN-py"
  },
  "language_info": {
   "codemirror_mode": {
    "name": "ipython",
    "version": 3
   },
   "file_extension": ".py",
   "mimetype": "text/x-python",
   "name": "python",
   "nbconvert_exporter": "python",
   "pygments_lexer": "ipython3",
   "version": "3.7.10"
  }
 },
 "nbformat": 4,
 "nbformat_minor": 4
}
